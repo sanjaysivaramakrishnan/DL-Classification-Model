{
  "cells": [
    {
      "cell_type": "code",
      "execution_count": 29,
      "metadata": {
        "id": "y7wVA14-bAGx"
      },
      "outputs": [],
      "source": [
        "import torch\n",
        "import torch.nn as nn\n",
        "import torch.optim as optim\n",
        "import torch.nn.functional as F\n",
        "import pandas as pd\n",
        "import numpy as np\n",
        "from sklearn.model_selection import train_test_split\n",
        "from sklearn.preprocessing import StandardScaler\n",
        "from sklearn.metrics import accuracy_score, confusion_matrix, classification_report\n",
        "from torch.utils.data import TensorDataset, DataLoader\n",
        "import seaborn as sns\n",
        "import matplotlib.pyplot as plt\n",
        "from sklearn.datasets import load_iris"
      ]
    },
    {
      "cell_type": "code",
      "execution_count": 30,
      "metadata": {
        "id": "1tu1eaXhbErF"
      },
      "outputs": [],
      "source": [
        "# Load Iris dataset\n",
        "iris = load_iris()\n",
        "X = iris.data  # Features\n",
        "y = iris.target  # Labels (already numerical)"
      ]
    },
    {
      "cell_type": "code",
      "execution_count": 31,
      "metadata": {
        "id": "f_PVWZ8VbF2e"
      },
      "outputs": [],
      "source": [
        "# Convert to DataFrame for easy inspection\n",
        "df = pd.DataFrame(X, columns=iris.feature_names)\n",
        "df['target'] = y"
      ]
    },
    {
      "cell_type": "code",
      "execution_count": 32,
      "metadata": {
        "id": "wryj3RO6bHke"
      },
      "outputs": [
        {
          "name": "stdout",
          "output_type": "stream",
          "text": [
            "First 5 rows of dataset:\n",
            "    sepal length (cm)  sepal width (cm)  petal length (cm)  petal width (cm)  \\\n",
            "0                5.1               3.5                1.4               0.2   \n",
            "1                4.9               3.0                1.4               0.2   \n",
            "2                4.7               3.2                1.3               0.2   \n",
            "3                4.6               3.1                1.5               0.2   \n",
            "4                5.0               3.6                1.4               0.2   \n",
            "\n",
            "   target  \n",
            "0       0  \n",
            "1       0  \n",
            "2       0  \n",
            "3       0  \n",
            "4       0  \n",
            "\n",
            "Last 5 rows of dataset:\n",
            "      sepal length (cm)  sepal width (cm)  petal length (cm)  petal width (cm)  \\\n",
            "145                6.7               3.0                5.2               2.3   \n",
            "146                6.3               2.5                5.0               1.9   \n",
            "147                6.5               3.0                5.2               2.0   \n",
            "148                6.2               3.4                5.4               2.3   \n",
            "149                5.9               3.0                5.1               1.8   \n",
            "\n",
            "     target  \n",
            "145       2  \n",
            "146       2  \n",
            "147       2  \n",
            "148       2  \n",
            "149       2  \n"
          ]
        }
      ],
      "source": [
        "# Display first and last 5 rows\n",
        "print(\"First 5 rows of dataset:\\n\", df.head())\n",
        "print(\"\\nLast 5 rows of dataset:\\n\", df.tail())"
      ]
    },
    {
      "cell_type": "code",
      "execution_count": 33,
      "metadata": {
        "id": "8bTjfdWybMeG"
      },
      "outputs": [],
      "source": [
        "# Split dataset\n",
        "X_train, X_test, y_train, y_test = train_test_split(X, y, test_size=0.2, random_state=42)"
      ]
    },
    {
      "cell_type": "code",
      "execution_count": 34,
      "metadata": {
        "id": "pB1jtlHybM7V"
      },
      "outputs": [],
      "source": [
        "# Standardize features\n",
        "scaler = StandardScaler()\n",
        "X_train = scaler.fit_transform(X_train)\n",
        "X_test = scaler.transform(X_test)"
      ]
    },
    {
      "cell_type": "code",
      "execution_count": 35,
      "metadata": {
        "id": "FWaMTUOfbO9V"
      },
      "outputs": [],
      "source": [
        "# Convert to PyTorch tensors\n",
        "X_train = torch.tensor(X_train, dtype=torch.float32)\n",
        "X_test = torch.tensor(X_test, dtype=torch.float32)\n",
        "y_train = torch.tensor(y_train, dtype=torch.long)\n",
        "y_test = torch.tensor(y_test, dtype=torch.long)"
      ]
    },
    {
      "cell_type": "code",
      "execution_count": 36,
      "metadata": {
        "id": "THVOIdG-bQRe"
      },
      "outputs": [],
      "source": [
        "# Create DataLoader\n",
        "train_dataset = TensorDataset(X_train, y_train)\n",
        "test_dataset = TensorDataset(X_test, y_test)\n",
        "train_loader = DataLoader(train_dataset, batch_size=16, shuffle=True)\n",
        "test_loader = DataLoader(test_dataset, batch_size=16)"
      ]
    },
    {
      "cell_type": "code",
      "execution_count": 49,
      "metadata": {
        "id": "JRId4yyUbe-1"
      },
      "outputs": [],
      "source": [
        "# Define Neural Network Model\n",
        "class IrisClassifier(nn.Module):\n",
        "    def __init__(self, input_size):\n",
        "        super(IrisClassifier, self).__init__()\n",
        "        self.l1 = nn.Linear(4, 16)    \n",
        "        self.relu = nn.ReLU()\n",
        "        self.l2 = nn.Linear(16, 3) \n",
        "\n",
        "    def forward(self, x):\n",
        "        return self.l1(x)"
      ]
    },
    {
      "cell_type": "code",
      "execution_count": 50,
      "metadata": {},
      "outputs": [
        {
          "name": "stdout",
          "output_type": "stream",
          "text": [
            "[[0.97777597 2.39685893]]\n"
          ]
        },
        {
          "data": {
            "text/plain": [
              "(1, 2)"
            ]
          },
          "execution_count": 50,
          "metadata": {},
          "output_type": "execute_result"
        }
      ],
      "source": [
        "x = np.random.rand(3, 2)\n",
        "\n",
        "y = np.sum(x, axis=0, keepdims=True)\n",
        "print(y)\n",
        "y.shape\n",
        "#+end_src"
      ]
    },
    {
      "cell_type": "code",
      "execution_count": 52,
      "metadata": {
        "id": "0bk9tk9vbg1e"
      },
      "outputs": [],
      "source": [
        "# Training function\n",
        "def train_model(model, train_loader, criterion, optimizer, epochs):\n",
        "        \n",
        "        for epoch in range(epochs):\n",
        "              for X,Y in train_loader:\n",
        "                    output = model(X)\n",
        "                    loss = criterion(output,Y)\n",
        "\n",
        "                    optimizer.zero_grad()\n",
        "                    loss.backward()\n",
        "                    optimizer.step()\n",
        "\n",
        "              if (epoch + 1) % 10 == 0:\n",
        "                print(f'Epoch [{epoch + 1}/{epochs}], Loss: {loss.item():.4f}')\n"
      ]
    },
    {
      "cell_type": "code",
      "execution_count": 55,
      "metadata": {
        "id": "O21T3qsVbzG1"
      },
      "outputs": [],
      "source": [
        "# Initialize model, loss function, and optimizer\n",
        "model = IrisClassifier(3)\n",
        "criterion = nn.CrossEntropyLoss()\n",
        "optimizer = optim.Adam(model.parameters(),lr=0.01)"
      ]
    },
    {
      "cell_type": "code",
      "execution_count": 59,
      "metadata": {
        "id": "Y7p-6cz7b3k9"
      },
      "outputs": [
        {
          "name": "stdout",
          "output_type": "stream",
          "text": [
            "Epoch [10/100], Loss: 0.0640\n",
            "Epoch [20/100], Loss: 0.0030\n",
            "Epoch [30/100], Loss: 0.0606\n",
            "Epoch [40/100], Loss: 0.0408\n",
            "Epoch [50/100], Loss: 0.0128\n",
            "Epoch [60/100], Loss: 0.2607\n",
            "Epoch [70/100], Loss: 0.0571\n",
            "Epoch [80/100], Loss: 0.0020\n",
            "Epoch [90/100], Loss: 0.0591\n",
            "Epoch [100/100], Loss: 0.0067\n"
          ]
        }
      ],
      "source": [
        "# Train the model\n",
        "train_model(model, train_loader, criterion, optimizer, epochs=100)"
      ]
    },
    {
      "cell_type": "code",
      "execution_count": 61,
      "metadata": {
        "id": "ZIAHa25Nb6zu"
      },
      "outputs": [],
      "source": [
        "# Evaluate the model\n",
        "model.eval()\n",
        "predictions, actuals = [], []\n",
        "with torch.no_grad():\n",
        "    for X_batch, y_batch in test_loader:\n",
        "        outputs = model(X_batch)\n",
        "        _, predicted = torch.max(outputs, 1)\n",
        "        predictions.extend(predicted.numpy())\n",
        "        actuals.extend(y_batch.numpy())"
      ]
    },
    {
      "cell_type": "code",
      "execution_count": 62,
      "metadata": {
        "id": "KD6TVJz0b96W"
      },
      "outputs": [
        {
          "name": "stdout",
          "output_type": "stream",
          "text": [
            "\n",
            "Name: \n",
            "Register No: \n",
            "Test Accuracy: 1.00%\n",
            "Confusion Matrix:\n",
            " [[10  0  0]\n",
            " [ 0  9  0]\n",
            " [ 0  0 11]]\n",
            "Classification Report:\n",
            "               precision    recall  f1-score   support\n",
            "\n",
            "      setosa       1.00      1.00      1.00        10\n",
            "  versicolor       1.00      1.00      1.00         9\n",
            "   virginica       1.00      1.00      1.00        11\n",
            "\n",
            "    accuracy                           1.00        30\n",
            "   macro avg       1.00      1.00      1.00        30\n",
            "weighted avg       1.00      1.00      1.00        30\n",
            "\n"
          ]
        },
        {
          "data": {
            "image/png": "[encoded data removed]",
            "text/plain": [
              "<Figure size 600x500 with 2 Axes>"
            ]
          },
          "metadata": {},
          "output_type": "display_data"
        }
      ],
      "source": [
        "# Compute metrics\n",
        "accuracy = accuracy_score(actuals, predictions)\n",
        "conf_matrix = confusion_matrix(actuals, predictions)\n",
        "class_report = classification_report(actuals, predictions, target_names=iris.target_names)\n",
        "\n",
        "# Print details\n",
        "print(\"\\nName: \")\n",
        "print(\"Register No: \")\n",
        "print(f'Test Accuracy: {accuracy:.2f}%')\n",
        "print(\"Confusion Matrix:\\n\", conf_matrix)\n",
        "print(\"Classification Report:\\n\", class_report)\n",
        "\n",
        "# Plot confusion matrix\n",
        "plt.figure(figsize=(6, 5))\n",
        "sns.heatmap(conf_matrix, annot=True, cmap='Blues', xticklabels=iris.target_names, yticklabels=iris.target_names, fmt='g')\n",
        "plt.xlabel(\"Predicted Labels\")\n",
        "plt.ylabel(\"True Labels\")\n",
        "plt.title(\"Confusion Matrix\")\n",
        "plt.show()"
      ]
    },
    {
      "cell_type": "code",
      "execution_count": 64,
      "metadata": {
        "id": "Jf9u3jjbcDiW"
      },
      "outputs": [
        {
          "name": "stdout",
          "output_type": "stream",
          "text": [
            "\n",
            "Name: Sanjay Sivaramakrishnan M\n",
            "Register No: 212223240151\n",
            "Predicted class for sample input: setosa\n",
            "Actual class for sample input: setosa\n"
          ]
        }
      ],
      "source": [
        "# Make a sample prediction\n",
        "sample_input = X_test[5].unsqueeze(0)  # Removed unnecessary .clone()\n",
        "with torch.no_grad():\n",
        "    output = model(sample_input)\n",
        "    predicted_class_index = torch.argmax(output[0]).item()\n",
        "    predicted_class_label = iris.target_names[predicted_class_index]\n",
        "\n",
        "print(\"\\nName: Sanjay Sivaramakrishnan M\")\n",
        "print(\"Register No: 212223240151\")\n",
        "print(f'Predicted class for sample input: {predicted_class_label}')\n",
        "print(f'Actual class for sample input: {iris.target_names[y_test[5].item()]}')"
      ]
    }
  ],
  "metadata": {
    "colab": {
      "provenance": []
    },
    "kernelspec": {
      "display_name": "open_cv",
      "language": "python",
      "name": "python3"
    },
    "language_info": {
      "codemirror_mode": {
        "name": "ipython",
        "version": 3
      },
      "file_extension": ".py",
      "mimetype": "text/x-python",
      "name": "python",
      "nbconvert_exporter": "python",
      "pygments_lexer": "ipython3",
      "version": "3.11.13"
    }
  },
  "nbformat": 4,
  "nbformat_minor": 0
}
